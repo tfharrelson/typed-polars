{
 "cells": [
  {
   "cell_type": "markdown",
   "id": "417151b7-0613-4553-aee9-e69d2b34b00e",
   "metadata": {},
   "source": [
    "# Basic Features of typed-polars"
   ]
  },
  {
   "cell_type": "code",
   "execution_count": 1,
   "id": "4e57665d-0451-4d32-a1cd-e3d86ae9b7d0",
   "metadata": {},
   "outputs": [],
   "source": [
    "from tpolars import TypedFrame\n",
    "from pydantic import BaseModel"
   ]
  },
  {
   "cell_type": "markdown",
   "id": "7c273ff7-5e3d-4dc2-9074-8e98209ceb9c",
   "metadata": {},
   "source": [
    "### Create a simple pydantic model"
   ]
  },
  {
   "cell_type": "code",
   "execution_count": 2,
   "id": "a325a49c-69bf-4f7c-93f5-bdbc3ce13c0a",
   "metadata": {},
   "outputs": [],
   "source": [
    "class Cat(BaseModel):\n",
    "    name: str\n",
    "    age: int"
   ]
  },
  {
   "cell_type": "markdown",
   "id": "8f7a62d5-3e1b-4054-8838-60b9021a0841",
   "metadata": {},
   "source": [
    "### Instantiate a typed frame using the pydantic model as a generic argument"
   ]
  },
  {
   "cell_type": "code",
   "execution_count": 3,
   "id": "b6a89f23-e8bf-4747-8fb4-19f6c3375492",
   "metadata": {},
   "outputs": [],
   "source": [
    "tf = TypedFrame[Cat]({\"name\": [\"marty\", \"linus\", \"oscar\"], \"age\": [14, 12, 2]})"
   ]
  },
  {
   "cell_type": "markdown",
   "id": "4d7813f5-6653-4ae6-ae1f-f76e69e830f4",
   "metadata": {},
   "source": [
    "The column schema is the pydantic model we specified"
   ]
  },
  {
   "cell_type": "code",
   "execution_count": 4,
   "id": "e7b7effd-a733-4041-952c-1c5b7d79a8fd",
   "metadata": {},
   "outputs": [
    {
     "data": {
      "text/plain": [
       "__main__.Cat"
      ]
     },
     "execution_count": 4,
     "metadata": {},
     "output_type": "execute_result"
    }
   ],
   "source": [
    "tf.col_schema"
   ]
  },
  {
   "cell_type": "markdown",
   "id": "8b70d863-24da-421b-a598-be7b34479366",
   "metadata": {},
   "source": [
    "The pydantic attributes can be accessed, and return polars Expr objects that can be used in select statements "
   ]
  },
  {
   "cell_type": "code",
   "execution_count": 5,
   "id": "8eee03c0-67ec-4af5-ae3b-321271fd2f8c",
   "metadata": {},
   "outputs": [
    {
     "data": {
      "text/html": [
       "col(\"name\")"
      ],
      "text/plain": [
       "<Expr ['col(\"name\")'] at 0x7FE2153194F0>"
      ]
     },
     "execution_count": 5,
     "metadata": {},
     "output_type": "execute_result"
    }
   ],
   "source": [
    "tf.name"
   ]
  },
  {
   "cell_type": "code",
   "execution_count": 6,
   "id": "75d585c4-c3d9-4ef5-a684-92fdeb570707",
   "metadata": {},
   "outputs": [
    {
     "data": {
      "text/html": [
       "<div><style>\n",
       ".dataframe > thead > tr,\n",
       ".dataframe > tbody > tr {\n",
       "  text-align: right;\n",
       "  white-space: pre-wrap;\n",
       "}\n",
       "</style>\n",
       "<small>shape: (3, 1)</small><table border=\"1\" class=\"dataframe\"><thead><tr><th>name</th></tr><tr><td>str</td></tr></thead><tbody><tr><td>&quot;marty&quot;</td></tr><tr><td>&quot;linus&quot;</td></tr><tr><td>&quot;oscar&quot;</td></tr></tbody></table></div>"
      ],
      "text/plain": [
       "shape: (3, 1)\n",
       "┌───────┐\n",
       "│ name  │\n",
       "│ ---   │\n",
       "│ str   │\n",
       "╞═══════╡\n",
       "│ marty │\n",
       "│ linus │\n",
       "│ oscar │\n",
       "└───────┘"
      ]
     },
     "execution_count": 6,
     "metadata": {},
     "output_type": "execute_result"
    }
   ],
   "source": [
    "tf.select(tf.name)"
   ]
  },
  {
   "cell_type": "markdown",
   "id": "69dd2479-112d-4000-9b04-998094a3d537",
   "metadata": {},
   "source": [
    "### Get pydantic objects back out of the dataframe"
   ]
  },
  {
   "cell_type": "code",
   "execution_count": 7,
   "id": "8469235f-386e-4e00-94c1-4dcaa842eb61",
   "metadata": {},
   "outputs": [
    {
     "data": {
      "text/plain": [
       "Cat(name='marty', age=14)"
      ]
     },
     "execution_count": 7,
     "metadata": {},
     "output_type": "execute_result"
    }
   ],
   "source": [
    "tf[0]"
   ]
  },
  {
   "cell_type": "markdown",
   "id": "45bb499c-2188-4620-bfd4-d9541aca104f",
   "metadata": {},
   "source": [
    "## Comparison to raw polars dataframes"
   ]
  },
  {
   "cell_type": "code",
   "execution_count": 8,
   "id": "c88b10d1-b2fe-4235-8ed1-43b2bd7a6e09",
   "metadata": {},
   "outputs": [
    {
     "data": {
      "text/html": [
       "<div><style>\n",
       ".dataframe > thead > tr,\n",
       ".dataframe > tbody > tr {\n",
       "  text-align: right;\n",
       "  white-space: pre-wrap;\n",
       "}\n",
       "</style>\n",
       "<small>shape: (3, 1)</small><table border=\"1\" class=\"dataframe\"><thead><tr><th>name</th></tr><tr><td>str</td></tr></thead><tbody><tr><td>&quot;marty&quot;</td></tr><tr><td>&quot;linus&quot;</td></tr><tr><td>&quot;oscar&quot;</td></tr></tbody></table></div>"
      ],
      "text/plain": [
       "shape: (3, 1)\n",
       "┌───────┐\n",
       "│ name  │\n",
       "│ ---   │\n",
       "│ str   │\n",
       "╞═══════╡\n",
       "│ marty │\n",
       "│ linus │\n",
       "│ oscar │\n",
       "└───────┘"
      ]
     },
     "execution_count": 8,
     "metadata": {},
     "output_type": "execute_result"
    }
   ],
   "source": [
    "import polars as pl\n",
    "\n",
    "df = pl.DataFrame({\"name\": [\"marty\", \"linus\", \"oscar\"], \"age\": [14, 12, 2]})\n",
    "\n",
    "# annoying to type pl.col everywhere and put my column names in string quotes\n",
    "df.select(pl.col(\"name\"))"
   ]
  },
  {
   "cell_type": "markdown",
   "id": "50895d30-1b27-4ebf-b29b-39c3526a5ca5",
   "metadata": {},
   "source": [
    "Ok, maybe this isn't too terrible (I definitely dislike typing out my columns in string quotes, and repeating pl.col everywhere). But this is a simple example, what if our query is more complicated?"
   ]
  },
  {
   "cell_type": "code",
   "execution_count": 11,
   "id": "5d539431-8921-44fb-954d-4a87b6d36e93",
   "metadata": {},
   "outputs": [
    {
     "data": {
      "text/html": [
       "<div><style>\n",
       ".dataframe > thead > tr,\n",
       ".dataframe > tbody > tr {\n",
       "  text-align: right;\n",
       "  white-space: pre-wrap;\n",
       "}\n",
       "</style>\n",
       "<small>shape: (3, 1)</small><table border=\"1\" class=\"dataframe\"><thead><tr><th>combined</th></tr><tr><td>str</td></tr></thead><tbody><tr><td>&quot;marty: 14&quot;</td></tr><tr><td>&quot;linus: 12&quot;</td></tr><tr><td>&quot;oscar: 2&quot;</td></tr></tbody></table></div>"
      ],
      "text/plain": [
       "shape: (3, 1)\n",
       "┌───────────┐\n",
       "│ combined  │\n",
       "│ ---       │\n",
       "│ str       │\n",
       "╞═══════════╡\n",
       "│ marty: 14 │\n",
       "│ linus: 12 │\n",
       "│ oscar: 2  │\n",
       "└───────────┘"
      ]
     },
     "execution_count": 11,
     "metadata": {},
     "output_type": "execute_result"
    }
   ],
   "source": [
    "df.select(pl.concat_str(pl.col(\"name\"), pl.col(\"age\"), separator=\": \").alias(\"combined\"))"
   ]
  },
  {
   "cell_type": "code",
   "execution_count": 12,
   "id": "a97593c3-4a4e-44e3-b90a-a7e949167e41",
   "metadata": {},
   "outputs": [
    {
     "data": {
      "text/html": [
       "<div><style>\n",
       ".dataframe > thead > tr,\n",
       ".dataframe > tbody > tr {\n",
       "  text-align: right;\n",
       "  white-space: pre-wrap;\n",
       "}\n",
       "</style>\n",
       "<small>shape: (3, 1)</small><table border=\"1\" class=\"dataframe\"><thead><tr><th>combined</th></tr><tr><td>str</td></tr></thead><tbody><tr><td>&quot;marty: 14&quot;</td></tr><tr><td>&quot;linus: 12&quot;</td></tr><tr><td>&quot;oscar: 2&quot;</td></tr></tbody></table></div>"
      ],
      "text/plain": [
       "shape: (3, 1)\n",
       "┌───────────┐\n",
       "│ combined  │\n",
       "│ ---       │\n",
       "│ str       │\n",
       "╞═══════════╡\n",
       "│ marty: 14 │\n",
       "│ linus: 12 │\n",
       "│ oscar: 2  │\n",
       "└───────────┘"
      ]
     },
     "execution_count": 12,
     "metadata": {},
     "output_type": "execute_result"
    }
   ],
   "source": [
    "tf.select(pl.concat_str(tf.name, tf.age, separator=\": \").alias(\"combined\"))"
   ]
  },
  {
   "cell_type": "markdown",
   "id": "29be435b-fb64-42a4-bdd7-2e701a892042",
   "metadata": {},
   "source": [
    "Starting to make TypedFrames look a bit better! Now imagine you have a dataframe with 20 columns, and you want to transform 5 of them into a derived feature, then do similar operations for 5 more features, and you can see how many times you repeat `pl.col(...)`. Also, I will eventually figure out how to make this compatible with static type checkers, which will really improve the experience. I can't count how many times I've tried to a complex polars query only to find `pl.col(\"col_name_with_typo\")`"
   ]
  }
 ],
 "metadata": {
  "kernelspec": {
   "display_name": "Python 3 (ipykernel)",
   "language": "python",
   "name": "python3"
  },
  "language_info": {
   "codemirror_mode": {
    "name": "ipython",
    "version": 3
   },
   "file_extension": ".py",
   "mimetype": "text/x-python",
   "name": "python",
   "nbconvert_exporter": "python",
   "pygments_lexer": "ipython3",
   "version": "3.12.7"
  }
 },
 "nbformat": 4,
 "nbformat_minor": 5
}
